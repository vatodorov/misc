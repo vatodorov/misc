{
 "cells": [
  {
   "cell_type": "code",
   "execution_count": 41,
   "metadata": {},
   "outputs": [
    {
     "data": {
      "text/plain": [
       "'\\nn = 3\\nnumber_of_minions = 10000\\n \\nprime_num = \"2357111317192329\" (NEED TO CREATE THE STRING OF PRIME NUMBERS in the range (0 - (number_of_minions + 5)))\\nminions_id = prime_num[n:(n + 5)]\\n'"
      ]
     },
     "execution_count": 41,
     "metadata": {},
     "output_type": "execute_result"
    }
   ],
   "source": [
    "\n",
    "def answer(n):\n",
    "    \n",
    "    # This is the number of minions (should be 10000)\n",
    "    x = 20\n",
    "    \n",
    "    # Create a function to list all prime numbers in the range 2 - 10005\n",
    "    def non_prime_numbers(x):\n",
    "        non_prime = []\n",
    "\n",
    "    # Test if a number is prime. If it's prime the modulo will not equal 0\n",
    "    # Here I create a list of the non-prime numbers, which are then subtracted from a list of the primes\n",
    "        for p in range(2, (x + 5)):\n",
    "            for i in range(2, p - 1):\n",
    "                if p % i == 0:\n",
    "                    non_prime.append(p)\n",
    "        return set(non_prime)\n",
    "\n",
    "    non_prime_list = non_prime_numbers(x)\n",
    "    \n",
    "    # Create a list with all numbers in the range 2 - 10005 and subtract the list with non-prime numbers from it\n",
    "    all_numbers = [i for i in range(2, (x + 5))]\n",
    "    prime_numbers = list(set(all_numbers) - set(non_prime_list))\n",
    "    prime_numbers_string = \"\".join(str(x) for x in prime_numbers)\n",
    "\n",
    "\n",
    "\n",
    "\"\"\"\n",
    "n = 3\n",
    "number_of_minions = 10000\n",
    " \n",
    "prime_num = \"2357111317192329\" (NEED TO CREATE THE STRING OF PRIME NUMBERS in the range (0 - (number_of_minions + 5)))\n",
    "minions_id = prime_num[n:(n + 5)]\n",
    "\"\"\""
   ]
  },
  {
   "cell_type": "code",
   "execution_count": null,
   "metadata": {
    "collapsed": true
   },
   "outputs": [],
   "source": []
  },
  {
   "cell_type": "code",
   "execution_count": null,
   "metadata": {
    "collapsed": true
   },
   "outputs": [],
   "source": [
    "\n"
   ]
  },
  {
   "cell_type": "code",
   "execution_count": 46,
   "metadata": {
    "collapsed": true
   },
   "outputs": [],
   "source": [
    "x = 10\n",
    "\n",
    "# Create a function to list all prime numbers in the range 2 - 10005\n",
    "def non_prime_numbers(x):\n",
    "    non_prime = []\n",
    "\n",
    "# Test if a number is prime. If it's prime the modulo will not equal 0\n",
    "# Here I create a list of the non-prime numbers, which are then subtracted from a list of the primes\n",
    "    for p in range(2, (x + 5)):\n",
    "        for i in range(2, p - 1):\n",
    "            if p % i == 0:\n",
    "                non_prime.append(p)\n",
    "    return set(non_prime)\n",
    "\n",
    "non_prime_list = non_prime_numbers(x)\n",
    "\n",
    "# Create a list with all numbers in the range 2 - 10005\n",
    "all_numbers = [i for i in range(2, (x + 5))]\n",
    "prime_numbers = list(set(all_numbers) - set(non_prime_list))\n",
    "prime_numbers_string = \"\".join(str(x) for x in prime_numbers)\n",
    "\n"
   ]
  },
  {
   "cell_type": "code",
   "execution_count": 47,
   "metadata": {},
   "outputs": [
    {
     "data": {
      "text/plain": [
       "({4, 6, 8, 9, 10, 12, 14},\n",
       " [2, 3, 4, 5, 6, 7, 8, 9, 10, 11, 12, 13, 14],\n",
       " [2, 3, 5, 7, 11, 13])"
      ]
     },
     "execution_count": 47,
     "metadata": {},
     "output_type": "execute_result"
    }
   ],
   "source": [
    "non_prime_list, all_numbers, prime_numbers"
   ]
  },
  {
   "cell_type": "code",
   "execution_count": 48,
   "metadata": {},
   "outputs": [
    {
     "data": {
      "text/plain": [
       "'23571113'"
      ]
     },
     "execution_count": 48,
     "metadata": {},
     "output_type": "execute_result"
    }
   ],
   "source": [
    "prime_numbers_string"
   ]
  },
  {
   "cell_type": "code",
   "execution_count": null,
   "metadata": {
    "collapsed": true
   },
   "outputs": [],
   "source": []
  }
 ],
 "metadata": {
  "kernelspec": {
   "display_name": "Python [conda env:py27]",
   "language": "python",
   "name": "conda-env-py27-py"
  },
  "language_info": {
   "codemirror_mode": {
    "name": "ipython",
    "version": 2
   },
   "file_extension": ".py",
   "mimetype": "text/x-python",
   "name": "python",
   "nbconvert_exporter": "python",
   "pygments_lexer": "ipython2",
   "version": "2.7.13"
  }
 },
 "nbformat": 4,
 "nbformat_minor": 2
}
