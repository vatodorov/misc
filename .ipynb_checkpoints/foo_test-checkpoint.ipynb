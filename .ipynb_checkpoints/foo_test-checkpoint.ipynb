{
 "cells": [
  {
   "cell_type": "markdown",
   "metadata": {},
   "source": [
    "#### Re-ID\n",
    "\n",
    "There's some unrest in the minion ranks: minions with ID numbers like \"1\", \"42\", and other \"good\" numbers have been lording it over the poor minions who are stuck with more boring IDs. To quell the unrest, Commander Lambda has tasked you with reassigning everyone new, random IDs based on her Completely Foolproof Scheme. \n",
    "\n",
    "She's concatenated the prime numbers in a single long string: \"2357111317192329...\". Now every minion must draw a number from a hat. That number is the starting index in that string of primes, and the minion's new ID number will be the next five digits in the string. So if a minion draws \"3\", their ID number will be \"71113\". \n",
    "\n",
    "Help the Commander assign these IDs by writing a function answer(n) which takes in the starting index n of Lambda's string of all primes, and returns the next five digits in the string. Commander Lambda has a lot of minions, so the value of n will always be between 0 and 10000.\n",
    "\n",
    "\n",
    "##### Test cases\n",
    "\n",
    "Inputs: (int) n = 0 -->\n",
    "Output: (string) \"23571\"\n",
    "\n",
    "Inputs: (int) n = 3 -->\n",
    "Output: (string) \"71113\""
   ]
  },
  {
   "cell_type": "code",
   "execution_count": 32,
   "metadata": {},
   "outputs": [
    {
     "data": {
      "text/plain": [
       "'02192'"
      ]
     },
     "execution_count": 32,
     "metadata": {},
     "output_type": "execute_result"
    }
   ],
   "source": [
    "def answer(n):\n",
    "    # According to this site https://primes.utm.edu/howmany.html there are 1229 primes below 10000\n",
    "    # Therefore, with simple arithmetic I can approximately calculate that\n",
    "    # In order to have a string of primes long 10005 from which to draw minions' ID,\n",
    "    # I need to generate all primes in the range (2 - 21000)\n",
    "\n",
    "    def generate_prime_numbers_list():\n",
    "        # Create an empty list to hold the prime numbers\n",
    "        prime_list = []\n",
    "\n",
    "        # Starting value for the prime numbers string\n",
    "        loop = 2\n",
    "        \n",
    "        # The range for finding prime numbers is 2 - 21000 (from https://primes.utm.edu/howmany.html)\n",
    "        max_prime_range = 21000\n",
    "    \n",
    "        while loop < max_prime_range:\n",
    "            isPrime = True\n",
    "\n",
    "            for x in range(2, int(math.sqrt(loop) + 1)):\n",
    "                if loop % x == 0: \n",
    "                    isPrime = False\n",
    "                    break\n",
    "\n",
    "            if isPrime == True:\n",
    "                prime_list.append(loop)\n",
    "\n",
    "            loop += 1\n",
    "\n",
    "        return prime_list\n",
    "    \n",
    "    # Create a string from the list of prime numbers\n",
    "    prime_numbers = generate_prime_numbers_list()\n",
    "    prime_numbers.sort()\n",
    "    prime_numbers_string = \"\".join(str(x) for x in prime_numbers)\n",
    "\n",
    "    # Return the minion ID based on the starting index from Commander Lambda\n",
    "    return prime_numbers_string[n:(n + 5)]\n",
    "\n",
    "answer(10000)\n"
   ]
  },
  {
   "cell_type": "code",
   "execution_count": null,
   "metadata": {
    "collapsed": true
   },
   "outputs": [],
   "source": []
  },
  {
   "cell_type": "code",
   "execution_count": null,
   "metadata": {
    "collapsed": true
   },
   "outputs": [],
   "source": []
  },
  {
   "cell_type": "code",
   "execution_count": 27,
   "metadata": {},
   "outputs": [
    {
     "data": {
      "text/plain": [
       "'23571'"
      ]
     },
     "execution_count": 27,
     "metadata": {},
     "output_type": "execute_result"
    }
   ],
   "source": [
    "#########\n",
    "# This is a much slower implementation of the same algorithm. It works, but many times slower.\n",
    "#########\n",
    "\n",
    "def answer(n):\n",
    "    # According to this site https://primes.utm.edu/howmany.html there are 1229 primes below 10000\n",
    "    # Therefore, with simple arithmetic I can approximately calculate that\n",
    "    # I need to generate all primes in the range 2 - 21000\n",
    "    # in order to have a string of primes long 10005 from which to draw minions' ID\n",
    "\n",
    "    # The range for finding prime numbers is 2 - 21000 (from https://primes.utm.edu/howmany.html)\n",
    "    x = 21000\n",
    "    \n",
    "    # Create a function to list all prime numbers in the range [2 - (x+5)]\n",
    "    def non_prime_numbers(x):\n",
    "        non_prime = []\n",
    "\n",
    "    # Test if a number is prime. If it's prime the modulo will not equal 0\n",
    "    # Solution: Create a list of all non-prime numbers,\n",
    "    # which are subtracted from a list of all numbers in the given range\n",
    "        for p in range(2, (x + 5)):\n",
    "            for i in range(2, p - 1):\n",
    "                if p % i == 0:\n",
    "                    non_prime.append(p)\n",
    "        return set(non_prime)\n",
    "\n",
    "    non_prime_list = non_prime_numbers(x)\n",
    "    \n",
    "    # Create a list with all numbers in the range [2 - (x+5)] and subtract the list with non-prime numbers from it\n",
    "    all_numbers = [i for i in range(2, (x + 5))]\n",
    "    prime_numbers = list(set(all_numbers) - set(non_prime_list))\n",
    "    prime_numbers.sort()\n",
    "    prime_numbers_string = \"\".join(str(x) for x in prime_numbers)\n",
    "\n",
    "    # Return the minion ID based on the starting index from Commander Lambda\n",
    "    return prime_numbers_string[n:(n + 5)]\n",
    "\n",
    "answer(0)"
   ]
  },
  {
   "cell_type": "code",
   "execution_count": null,
   "metadata": {
    "collapsed": true
   },
   "outputs": [],
   "source": []
  }
 ],
 "metadata": {
  "kernelspec": {
   "display_name": "Python 2",
   "language": "python",
   "name": "python2"
  },
  "language_info": {
   "codemirror_mode": {
    "name": "ipython",
    "version": 2
   },
   "file_extension": ".py",
   "mimetype": "text/x-python",
   "name": "python",
   "nbconvert_exporter": "python",
   "pygments_lexer": "ipython2",
   "version": "2.7.13"
  }
 },
 "nbformat": 4,
 "nbformat_minor": 2
}
