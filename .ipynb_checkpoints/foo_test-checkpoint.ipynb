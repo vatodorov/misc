{
 "cells": [
  {
   "cell_type": "markdown",
   "metadata": {},
   "source": [
    "#### Test 1 - Re-ID\n",
    "\n",
    "There's some unrest in the minion ranks: minions with ID numbers like \"1\", \"42\", and other \"good\" numbers have been lording it over the poor minions who are stuck with more boring IDs. To quell the unrest, Commander Lambda has tasked you with reassigning everyone new, random IDs based on her Completely Foolproof Scheme. \n",
    "\n",
    "She's concatenated the prime numbers in a single long string: \"2357111317192329...\". Now every minion must draw a number from a hat. That number is the starting index in that string of primes, and the minion's new ID number will be the next five digits in the string. So if a minion draws \"3\", their ID number will be \"71113\". \n",
    "\n",
    "Help the Commander assign these IDs by writing a function answer(n) which takes in the starting index n of Lambda's string of all primes, and returns the next five digits in the string. Commander Lambda has a lot of minions, so the value of n will always be between 0 and 10000.\n",
    "\n",
    "\n",
    "##### Test cases\n",
    "\n",
    "Inputs: (int) n = 0 -->\n",
    "Output: (string) \"23571\"\n",
    "\n",
    "Inputs: (int) n = 3 -->\n",
    "Output: (string) \"71113\""
   ]
  },
  {
   "cell_type": "code",
   "execution_count": 32,
   "metadata": {},
   "outputs": [
    {
     "data": {
      "text/plain": [
       "'02192'"
      ]
     },
     "execution_count": 32,
     "metadata": {},
     "output_type": "execute_result"
    }
   ],
   "source": [
    "def answer(n):\n",
    "    # According to this site https://primes.utm.edu/howmany.html there are 1229 primes below 10000\n",
    "    # Therefore, with simple arithmetic I can approximately calculate that\n",
    "    # In order to have a string of primes long 10005 from which to draw minions' ID,\n",
    "    # I need to generate all primes in the range (2 - 21000)\n",
    "\n",
    "    def generate_prime_numbers_list():\n",
    "        # Create an empty list to hold the prime numbers\n",
    "        prime_list = []\n",
    "\n",
    "        # Starting value for the prime numbers string\n",
    "        loop = 2\n",
    "        \n",
    "        # The range for finding prime numbers is 2 - 21000 (from https://primes.utm.edu/howmany.html)\n",
    "        max_prime_range = 21000\n",
    "    \n",
    "        while loop < max_prime_range:\n",
    "            isPrime = True\n",
    "\n",
    "            for x in range(2, int(math.sqrt(loop) + 1)):\n",
    "                if loop % x == 0: \n",
    "                    isPrime = False\n",
    "                    break\n",
    "\n",
    "            if isPrime == True:\n",
    "                prime_list.append(loop)\n",
    "\n",
    "            loop += 1\n",
    "\n",
    "        return prime_list\n",
    "    \n",
    "    # Create a string from the list of prime numbers\n",
    "    prime_numbers = generate_prime_numbers_list()\n",
    "    prime_numbers.sort()\n",
    "    prime_numbers_string = \"\".join(str(x) for x in prime_numbers)\n",
    "\n",
    "    # Return the minion ID based on the starting index from Commander Lambda\n",
    "    return prime_numbers_string[n:(n + 5)]\n",
    "\n",
    "answer(10000)\n"
   ]
  },
  {
   "cell_type": "code",
   "execution_count": 27,
   "metadata": {},
   "outputs": [
    {
     "data": {
      "text/plain": [
       "'23571'"
      ]
     },
     "execution_count": 27,
     "metadata": {},
     "output_type": "execute_result"
    }
   ],
   "source": [
    "#########\n",
    "# This is a much slower implementation of the same algorithm. It works, but many times slower.\n",
    "#########\n",
    "\n",
    "def answer(n):\n",
    "    # According to this site https://primes.utm.edu/howmany.html there are 1229 primes below 10000\n",
    "    # Therefore, with simple arithmetic I can approximately calculate that\n",
    "    # I need to generate all primes in the range 2 - 21000\n",
    "    # in order to have a string of primes long 10005 from which to draw minions' ID\n",
    "\n",
    "    # The range for finding prime numbers is 2 - 21000 (from https://primes.utm.edu/howmany.html)\n",
    "    x = 21000\n",
    "    \n",
    "    # Create a function to list all prime numbers in the range [2 - (x+5)]\n",
    "    def non_prime_numbers(x):\n",
    "        non_prime = []\n",
    "\n",
    "    # Test if a number is prime. If it's prime the modulo will not equal 0\n",
    "    # Solution: Create a list of all non-prime numbers,\n",
    "    # which are subtracted from a list of all numbers in the given range\n",
    "        for p in range(2, (x + 5)):\n",
    "            for i in range(2, p - 1):\n",
    "                if p % i == 0:\n",
    "                    non_prime.append(p)\n",
    "        return set(non_prime)\n",
    "\n",
    "    non_prime_list = non_prime_numbers(x)\n",
    "    \n",
    "    # Create a list with all numbers in the range [2 - (x+5)] and subtract the list with non-prime numbers from it\n",
    "    all_numbers = [i for i in range(2, (x + 5))]\n",
    "    prime_numbers = list(set(all_numbers) - set(non_prime_list))\n",
    "    prime_numbers.sort()\n",
    "    prime_numbers_string = \"\".join(str(x) for x in prime_numbers)\n",
    "\n",
    "    # Return the minion ID based on the starting index from Commander Lambda\n",
    "    return prime_numbers_string[n:(n + 5)]\n",
    "\n",
    "answer(0)"
   ]
  },
  {
   "cell_type": "code",
   "execution_count": null,
   "metadata": {
    "collapsed": true
   },
   "outputs": [],
   "source": []
  },
  {
   "cell_type": "markdown",
   "metadata": {},
   "source": [
    "#### Test 2 - Hey, I Already Did That!\n",
    "\n",
    "Commander Lambda uses an automated algorithm to assign minions randomly to tasks, in order to keep her minions on their toes. But you've noticed a flaw in the algorithm - it eventually loops back on itself, so that instead of assigning new minions as it iterates, it gets stuck in a cycle of values so that the same minions end up doing the same tasks over and over again. You think proving this to Commander Lambda will help you make a case for your next promotion. \n",
    "\n",
    "You have worked out that the algorithm has the following process: \n",
    "\n",
    "1) Start with a random minion ID n, which is a nonnegative integer of length k in base b\n",
    "2) Define x and y as integers of length k.  x has the digits of n in descending order, and y has the digits of n in ascending order\n",
    "3) Define z = x - y.  Add leading zeros to z to maintain length k if necessary\n",
    "4) Assign n = z to get the next minion ID, and go back to step 2\n",
    "\n",
    "For example, given minion ID n = 1211, k = 4, b = 10, then x = 2111, y = 1112 and z = 2111 - 1112 = 0999. Then the next minion ID will be n = 0999 and the algorithm iterates again: x = 9990, y = 0999 and z = 9990 - 0999 = 8991, and so on.\n",
    "\n",
    "Depending on the values of n, k (derived from n), and b, at some point the algorithm reaches a cycle, such as by reaching a constant value. For example, starting with n = 210022, k = 6, b = 3, the algorithm will reach the cycle of values [210111, 122221, 102212] and it will stay in this cycle no matter how many times it continues iterating. Starting with n = 1211, the routine will reach the integer 6174, and since 7641 - 1467 is 6174, it will stay as that value no matter how many times it iterates.\n",
    "\n",
    "Given a minion ID as a string n representing a nonnegative integer of length k in base b, where 2 <= k <= 9 and 2 <= b <= 10, write a function answer(n, b) which returns the length of the ending cycle of the algorithm above starting with n. For instance, in the example above, answer(210022, 3) would return 3, since iterating on 102212 would return to 210111 when done in base 3. If the algorithm reaches a constant, such as 0, then the length is 1.\n",
    "\n",
    "##### Test cases\n",
    "\n",
    "Inputs: (string) n = \"1211\"; (int) b = 10 -->\n",
    "Output:\n",
    "    (int) 1\n",
    "\n",
    "Inputs: (string) n = \"210022\"; (int) b = 3 -->\n",
    "Output:\n",
    "    (int) 3"
   ]
  },
  {
   "cell_type": "code",
   "execution_count": 9,
   "metadata": {},
   "outputs": [
    {
     "name": "stdout",
     "output_type": "stream",
     "text": [
      "['101200002121']\n"
     ]
    }
   ],
   "source": [
    "def convertToBase(num,base):\n",
    "    q = num / base\n",
    "    r = num % base\n",
    "    if (q == 0):\n",
    "        return str(r)\n",
    "    else:\n",
    "        return convertToBase(q, base) + str(r)\n",
    "\n",
    "pix = [210022] #the list of numbers you want converted to base b\n",
    "\n",
    "print [convertToBase(x, 3) for x in pix]"
   ]
  },
  {
   "cell_type": "code",
   "execution_count": null,
   "metadata": {
    "collapsed": true
   },
   "outputs": [],
   "source": []
  },
  {
   "cell_type": "markdown",
   "metadata": {},
   "source": [
    "Level 2: Challenge 1 - Bunny Prisoner Locating\n",
    "=======================\n",
    "\n",
    "Keeping track of Commander Lambda's many bunny prisoners is starting to get tricky. You've been tasked with writing a program to match bunny prisoner IDs to cell locations.\n",
    "\n",
    "The LAMBCHOP doomsday device takes up much of the interior of Commander Lambda's space station, and as a result the prison blocks have an unusual layout. They are stacked in a triangular shape, and the bunny prisoners are given numerical IDs starting from the corner, as follows:\n",
    "\n",
    "| 7\n",
    "| 4 8\n",
    "| 2 5 9\n",
    "| 1 3 6 10\n",
    "\n",
    "Each cell can be represented as points (x, y), with x being the distance from the vertical wall, and y being the height from the ground. \n",
    "\n",
    "For example, the bunny prisoner at (1, 1) has ID 1, the bunny prisoner at (3, 2) has ID 9, and the bunny prisoner at (2,3) has ID 8. This pattern of numbering continues indefinitely (Commander Lambda has been taking a LOT of prisoners). \n",
    "\n",
    "Write a function answer(x, y) which returns the prisoner ID of the bunny at location (x, y). Each value of x and y will be at least 1 and no greater than 100,000. Since the prisoner ID can be very large, return your answer as a string representation of the number."
   ]
  },
  {
   "cell_type": "code",
   "execution_count": null,
   "metadata": {
    "collapsed": true
   },
   "outputs": [],
   "source": []
  },
  {
   "cell_type": "code",
   "execution_count": null,
   "metadata": {
    "collapsed": true
   },
   "outputs": [],
   "source": []
  },
  {
   "cell_type": "markdown",
   "metadata": {},
   "source": [
    "Level 2: Challenge 2 - En Route Salute\n",
    "===============\n",
    "\n",
    "Commander Lambda loves efficiency and hates anything that wastes time. She's a busy lamb, after all! She generously rewards henchmen who identify sources of inefficiency and come up with ways to remove them. You've spotted one such source, and you think solving it will help you build the reputation you need to get promoted.\n",
    "\n",
    "Every time the Commander's employees pass each other in the hall, each of them must stop and salute each other - one at a time - before resuming their path. A salute is five seconds long, so each exchange of salutes takes a full ten seconds (Commander Lambda's salute is a bit, er, involved). You think that by removing the salute requirement, you could save several collective hours of employee time per day. But first, you need to show her how bad the problem really is.\n",
    "\n",
    "Write a program that counts how many salutes are exchanged during a typical walk along a hallway. The hall is represented by a string. For example:\n",
    "\"--->-><-><-->-\"\n",
    "\n",
    "Each hallway string will contain three different types of characters: '>', an employee walking to the right; '<', an employee walking to the left; and '-', an empty space. Every employee walks at the same speed either to right or to the left, according to their direction. Whenever two employees cross, each of them salutes the other. They then continue walking until they reach the end, finally leaving the hallway. In the above example, they salute 10 times.\n",
    "\n",
    "Write a function answer(s) which takes a string representing employees walking along a hallway and returns the number of times the employees will salute. s will contain at least 1 and at most 100 characters, each one of -, >, or <.\n",
    "\n",
    "\n",
    "Test cases\n",
    "==========\n",
    "\n",
    "Inputs:\n",
    "    (string) s = \">----<\"\n",
    "Output:\n",
    "    (int) 2\n",
    "\n",
    "Inputs:\n",
    "    (string) s = \"<<>><\"\n",
    "Output:\n",
    "    (int) 4"
   ]
  },
  {
   "cell_type": "code",
   "execution_count": 68,
   "metadata": {
    "collapsed": true
   },
   "outputs": [],
   "source": [
    "def answer(s):\n",
    "    # En Route Salute\n",
    "    # This function returns the number of times the employees walking down a hallway will salute\n",
    "    \n",
    "    # Import string library\n",
    "    import re\n",
    "\n",
    "    # Remove (non-essential) dashes from the string\n",
    "    strip_dashes = re.sub('-', '', s)\n",
    "\n",
    "    # Find the location of all employees walking to the left\n",
    "    left_loc = [m.start() for m in re.finditer('<', strip_dashes)]\n",
    "\n",
    "    # Count the salutes\n",
    "    return sum([(left_loc[x] - x) * 2 for x in range(0, len(left_loc))])\n"
   ]
  },
  {
   "cell_type": "code",
   "execution_count": 70,
   "metadata": {},
   "outputs": [
    {
     "data": {
      "text/plain": [
       "4"
      ]
     },
     "execution_count": 70,
     "metadata": {},
     "output_type": "execute_result"
    }
   ],
   "source": [
    "answer(\"<<>><\")"
   ]
  },
  {
   "cell_type": "code",
   "execution_count": null,
   "metadata": {
    "collapsed": true
   },
   "outputs": [],
   "source": []
  },
  {
   "cell_type": "code",
   "execution_count": 63,
   "metadata": {},
   "outputs": [
    {
     "name": "stdout",
     "output_type": "stream",
     "text": [
      "[[[ 1.  2.]\n",
      "  [ 3.  4.]]]\n",
      "[[[   8.   67.]\n",
      "  [   3.   23.]\n",
      "  [ 234.  235.]]]\n",
      "[[[-2.   1. ]\n",
      "  [ 1.5 -0.5]]]\n",
      "[[ 1.  0.]\n",
      " [ 0.  1.]]\n",
      "[[[ 1.  2.]]\n",
      "\n",
      " [[ 3.  4.]]]\n",
      "[[[ 1.]\n",
      "  [ 3.]]\n",
      "\n",
      " [[ 2.]\n",
      "  [ 4.]]]\n"
     ]
    },
    {
     "data": {
      "text/plain": [
       "array([[[[  209.,   284.]],\n",
       "\n",
       "        [[   72.,    98.]],\n",
       "\n",
       "        [[  939.,  1408.]]]])"
      ]
     },
     "execution_count": 63,
     "metadata": {},
     "output_type": "execute_result"
    }
   ],
   "source": [
    "# Matrix operations\n",
    "\n",
    "import numpy as np\n",
    "\n",
    "m = np.array([[[1., 2.],\n",
    "               [3., 4.]]])\n",
    "\n",
    "a = np.array([[[8., 67.],\n",
    "               [3., 23.],\n",
    "               [234., 235.]]])\n",
    "\n",
    "# Inverse of a matrix\n",
    "m_inv = np.linalg.inv(m)\n",
    "\n",
    "# Create identity matrix\n",
    "eye = np.identity(2)\n",
    "\n",
    "# Matrix multiplication\n",
    "m_multiply = np.dot(eye, m)\n",
    "d = np.dot(a, m)\n",
    "\n",
    "# Transpose a matrix\n",
    "m_transpose = m.transpose()\n",
    "\n",
    "print m\n",
    "print a\n",
    "print m_inv\n",
    "print eye\n",
    "print m_multiply\n",
    "print m_transpose\n",
    "d\n"
   ]
  },
  {
   "cell_type": "code",
   "execution_count": null,
   "metadata": {
    "collapsed": true
   },
   "outputs": [],
   "source": []
  },
  {
   "cell_type": "code",
   "execution_count": null,
   "metadata": {
    "collapsed": true
   },
   "outputs": [],
   "source": []
  }
 ],
 "metadata": {
  "kernelspec": {
   "display_name": "Python 2",
   "language": "python",
   "name": "python2"
  },
  "language_info": {
   "codemirror_mode": {
    "name": "ipython",
    "version": 2
   },
   "file_extension": ".py",
   "mimetype": "text/x-python",
   "name": "python",
   "nbconvert_exporter": "python",
   "pygments_lexer": "ipython2",
   "version": "2.7.13"
  }
 },
 "nbformat": 4,
 "nbformat_minor": 2
}
