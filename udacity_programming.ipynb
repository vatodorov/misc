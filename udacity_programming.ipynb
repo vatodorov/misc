{
 "cells": [
  {
   "cell_type": "code",
   "execution_count": 1,
   "metadata": {},
   "outputs": [
    {
     "data": {
      "text/plain": [
       "98"
      ]
     },
     "execution_count": 1,
     "metadata": {},
     "output_type": "execute_result"
    }
   ],
   "source": [
    "# Write Python code that assigns to the \n",
    "# variable url a string that is the value \n",
    "# of the first URL that appears in a link \n",
    "# tag in the string page.\n",
    "# Your code should print http://udacity.com\n",
    "# Make sure that if page were changed to\n",
    "\n",
    "# page = '<a href=\"http://udacity.com\">Hello world</a>'\n",
    "\n",
    "# that your code still assigns the same value to the variable 'url', \n",
    "# and therefore still prints the same thing.\n",
    "\n",
    "# page = contents of a web page\n",
    "page =('<div id=\"top_bin\"><div id=\"top_content\" class=\"width960\">'\n",
    "'<div class=\"udacity float-left\"><a href=\"http://udacity.com\">')\n",
    "start_link = page.find('<a href=')\n",
    "\n",
    "url = page[page.find(\"http://udacity.com\"):(page.find(\"http://udacity.com\") + len(\"http://udacity.com\"))]"
   ]
  },
  {
   "cell_type": "code",
   "execution_count": 13,
   "metadata": {},
   "outputs": [
    {
     "name": "stdout",
     "output_type": "stream",
     "text": [
      "0.2998\n"
     ]
    }
   ],
   "source": [
    "# Write Python code that stores the distance \n",
    "# in meters that light travels in one \n",
    "# nanosecond in the variable, nanodistance. \n",
    "\n",
    "# These variables are defined for you:\n",
    "\n",
    "speed_of_light = 299800000. # meters per second\n",
    "nano_per_sec = 1000000000. # 1 billion\n",
    "\n",
    "# After your code, running the following:\n",
    "nanodistance = speed_of_light / nano_per_sec\n",
    "# print nanodistance\n",
    "\n",
    "# should output: 0.2998\n",
    "\n",
    "# Note that nanodistance must be a decimal number.\n",
    "\n",
    "# ASSIGN nanodistance BELOW this line\n",
    "\n",
    "\n",
    "print (nanodistance)"
   ]
  },
  {
   "cell_type": "code",
   "execution_count": 32,
   "metadata": {},
   "outputs": [
    {
     "name": "stdout",
     "output_type": "stream",
     "text": [
      "-1\n"
     ]
    }
   ],
   "source": [
    "# Assume text is a variable that\n",
    "# holds a string. Write Python code\n",
    "# that prints out the position\n",
    "# of the first occurrence of 'hoo'\n",
    "# in the value of text, or -1 if\n",
    "# it does not occur at all.\n",
    "\n",
    "text = \"first hoo\" \n",
    "\n",
    "# ENTER CODE BELOW HERE\n",
    "found = text.find('hoo')\n",
    "\n",
    "if found > 0:\n",
    "    print (found)\n",
    "else:\n",
    "    print (-1)"
   ]
  },
  {
   "cell_type": "code",
   "execution_count": 68,
   "metadata": {},
   "outputs": [
    {
     "data": {
      "text/plain": [
       "3"
      ]
     },
     "execution_count": 68,
     "metadata": {},
     "output_type": "execute_result"
    }
   ],
   "source": [
    "# Assume text is a variable that\n",
    "# holds a string. Write Python code\n",
    "# that prints out the position\n",
    "# of the second occurrence of 'zip'\n",
    "# in text, or -1 if it does not occur\n",
    "# at least twice.\n",
    "\n",
    "# The Python code should be general enough\n",
    "# to pass every possible case where 'zip' \n",
    "# can occur in a string\n",
    "\n",
    "# Here are two example test cases:\n",
    "#text = 'all zip files are zipped' \n",
    "# >>> 18\n",
    "# text = 'all zip files are compressed'\n",
    "# >>> -1\n",
    "\n",
    "text = 'zipzip'\n",
    "\n",
    "# ENTER CODE BELOW HERE\n",
    "text.find('zip', text.find('zip') + 1) \n",
    "\n",
    "# IMPORTANT BEFORE SUBMITTING: \n",
    "# You should only have one print command in your function"
   ]
  },
  {
   "cell_type": "code",
   "execution_count": 17,
   "metadata": {},
   "outputs": [
    {
     "name": "stdout",
     "output_type": "stream",
     "text": [
      "I will now go to sleep and be away from keyboard until lunch away from keyboard time tomorrow.\n"
     ]
    }
   ],
   "source": [
    "###############################################\n",
    "#       Exercise by Websten from forums       #\n",
    "###############################################\n",
    "# To minimize errors when writing long texts with\n",
    "# complicated expressions you could replace \n",
    "# the tricky parts with a marker. \n",
    "# Write a program that takes a line of text and \n",
    "# finds the first occurrence of a certain marker \n",
    "# and replaces it with a replacement text. \n",
    "# The resulting line of text should be stored in a variable. \n",
    "# All input data will be given as variables.\n",
    "#\n",
    "# Replace the first occurrence of marker in the line below.\n",
    "# There will be at least one occurrence of the marker in the\n",
    "# line of text. Put the answer in the variable 'replaced'.\n",
    "# Hint: You can find out the length of a string by command\n",
    "# len(string). We might test your code with different markers!\n",
    "\n",
    "# Example 1\n",
    "marker = \"AFK\"\n",
    "replacement = \"away from keyboard\"\n",
    "line = \"I will now go to sleep and be AFK until lunch AFK time tomorrow.\"\n",
    "\n",
    "# Example 2 # uncomment this to test with different input\n",
    "#marker = \"EY\"\n",
    "#replacement = \"Eyjafjallajokull\"\n",
    "#line = \"The eruption of the volcano EY in 2010 disrupted air travel in Europe for 6 days.\"\n",
    "\n",
    "###\n",
    "# YOUR CODE BELOW. DO NOT DELETE THIS LINE\n",
    "###\n",
    "\n",
    "replaced = line.replace(marker, replacement)\n",
    "\n",
    "print (replaced)\n",
    "# Example 1 output should be:\n",
    "#>>> I will now go to sleep and be away from keyboard until lunch time tomorrow.\n",
    "# Example 2 output should be:\n",
    "#>>> The eruption of the volcano Eyjafjallajokull in 2010 disrupted air travel in Europe for 6 days."
   ]
  },
  {
   "cell_type": "code",
   "execution_count": 27,
   "metadata": {
    "collapsed": true
   },
   "outputs": [],
   "source": [
    "###############################################\n",
    "#       Exercise by Websten from forums       #\n",
    "###############################################\n",
    "# A palindrome is a word or a phrase that reads \n",
    "# the same backwards as forwards. Make a program \n",
    "# that checks if a word is a palindrome. \n",
    "# If the word is a palindrome, print 0 to the terminal,\n",
    "# -1 otherwise. \n",
    "# The word contains lowercase letters a-z and \n",
    "# will be at least one character long.\n",
    "#\n",
    "### HINT! ###\n",
    "# You can read a string backwards with the following syntax:\n",
    "# string[::-1] - where the \"-1\" means one step back.\n",
    "# This exercise can be solved with only unit 1 knowledge\n",
    "# (no loops or conditions)\n",
    "\n",
    "word = \"madam\"\n",
    "# test case 2\n",
    "# word = \"madman\" # uncomment this to test\n",
    "\n",
    "###\n",
    "# YOUR CODE HERE. DO NOT DELETE THIS LINE OR ADD A word DEFINITION BELOW IT.\n",
    "###\n",
    "\n",
    "#is_palindrome =\n",
    "\n",
    "# TESTING\n",
    "#print is_palindrome\n",
    "# >>> 0  # outcome if word == \"madam\"\n",
    "# >>> -1 # outcome if word == \"madman\""
   ]
  },
  {
   "cell_type": "code",
   "execution_count": 76,
   "metadata": {},
   "outputs": [
    {
     "data": {
      "text/plain": [
       "-1"
      ]
     },
     "execution_count": 76,
     "metadata": {},
     "output_type": "execute_result"
    }
   ],
   "source": [
    "word = \"madman\"\n",
    "word_r = \"\"\n",
    "pos = -1\n",
    "\n",
    "while pos > -(len(word) + 1):\n",
    "    word_r = word_r + word[pos]\n",
    "    pos -= 1\n",
    "\n",
    "is_palindrome = word.find(word_r)\n",
    "is_palindrome"
   ]
  },
  {
   "cell_type": "code",
   "execution_count": 35,
   "metadata": {},
   "outputs": [
    {
     "name": "stdout",
     "output_type": "stream",
     "text": [
      "25\n"
     ]
    }
   ],
   "source": [
    "# Define a procedure, find_second, that takes\n",
    "# two strings as its inputs: a search string\n",
    "# and a target string. It should return a\n",
    "# number that is the position of the second\n",
    "# occurrence of the target string in the\n",
    "# search string.\n",
    "\n",
    "def find_second(a, b):\n",
    "    return a.find(b, a.find(b) + 1)\n",
    "    \n",
    "danton = \"De l'audace, encore de l'audace, toujours de l'audace\"\n",
    "print (find_second(danton, 'audace'))\n",
    "#>>> 25\n",
    "\n",
    "#twister = \"she sells seashells by the seashore\"\n",
    "#print find_second(twister,'she')\n",
    "#>>> 13"
   ]
  }
 ],
 "metadata": {
  "kernelspec": {
   "display_name": "Python [conda env:py27]",
   "language": "python",
   "name": "conda-env-py27-py"
  },
  "language_info": {
   "codemirror_mode": {
    "name": "ipython",
    "version": 2
   },
   "file_extension": ".py",
   "mimetype": "text/x-python",
   "name": "python",
   "nbconvert_exporter": "python",
   "pygments_lexer": "ipython2",
   "version": "2.7.13"
  }
 },
 "nbformat": 4,
 "nbformat_minor": 2
}
