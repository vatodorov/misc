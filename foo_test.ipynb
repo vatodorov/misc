{
 "cells": [
  {
   "cell_type": "markdown",
   "metadata": {},
   "source": [
    "#### Re-ID\n",
    "\n",
    "There's some unrest in the minion ranks: minions with ID numbers like \"1\", \"42\", and other \"good\" numbers have been lording it over the poor minions who are stuck with more boring IDs. To quell the unrest, Commander Lambda has tasked you with reassigning everyone new, random IDs based on her Completely Foolproof Scheme. \n",
    "\n",
    "She's concatenated the prime numbers in a single long string: \"2357111317192329...\". Now every minion must draw a number from a hat. That number is the starting index in that string of primes, and the minion's new ID number will be the next five digits in the string. So if a minion draws \"3\", their ID number will be \"71113\". \n",
    "\n",
    "Help the Commander assign these IDs by writing a function answer(n) which takes in the starting index n of Lambda's string of all primes, and returns the next five digits in the string. Commander Lambda has a lot of minions, so the value of n will always be between 0 and 10000.\n",
    "\n",
    "\n",
    "##### Test cases\n",
    "\n",
    "Inputs: (int) n = 0 -->\n",
    "Output: (string) \"23571\"\n",
    "\n",
    "Inputs: (int) n = 3 -->\n",
    "Output: (string) \"71113\""
   ]
  },
  {
   "cell_type": "code",
   "execution_count": 33,
   "metadata": {},
   "outputs": [
    {
     "data": {
      "text/plain": [
       "'03107'"
      ]
     },
     "execution_count": 33,
     "metadata": {},
     "output_type": "execute_result"
    }
   ],
   "source": [
    "\n",
    "# Function that returns minion ID from a list of prime numbers in the range 2 - 10005\n",
    "def answer(n):\n",
    "    \n",
    "    # This is the number of minions (should be 10000)\n",
    "    x = 1000\n",
    "    \n",
    "    # Create a function to list all prime numbers in the range 2 - 10005\n",
    "    def non_prime_numbers(x):\n",
    "        non_prime = []\n",
    "\n",
    "    # Test if a number is prime. If it's prime the modulo will not equal 0\n",
    "    # Solution: Create a list of all non-prime numbers,\n",
    "    #           which are subtracted from a list of all numbers in the given range\n",
    "        for p in range(2, (x + 5)):\n",
    "            for i in range(2, p - 1):\n",
    "                if p % i == 0:\n",
    "                    non_prime.append(p)\n",
    "        return set(non_prime)\n",
    "\n",
    "    non_prime_list = non_prime_numbers(x)\n",
    "    \n",
    "    # Create a list with all numbers in the range 2 - 10005 and subtract the list with non-prime numbers from it\n",
    "    all_numbers = [i for i in range(2, (x + 5))]\n",
    "    prime_numbers = list(set(all_numbers) - set(non_prime_list))\n",
    "    prime_numbers.sort()\n",
    "    prime_numbers_string = \"\".join(str(x) for x in prime_numbers)\n",
    "\n",
    "    # Return the minion ID based on the starting index from Commander Lambda\n",
    "    return prime_numbers_string[n:(n + 5)]\n",
    "    \n",
    "    \n",
    "answer(50)\n"
   ]
  },
  {
   "cell_type": "code",
   "execution_count": null,
   "metadata": {
    "collapsed": true
   },
   "outputs": [],
   "source": []
  },
  {
   "cell_type": "code",
   "execution_count": 107,
   "metadata": {},
   "outputs": [],
   "source": [
    "x = 150\n",
    "n = 100\n",
    "\n",
    "# Create a function to list all prime numbers in the range 2 - 10005\n",
    "def non_prime_numbers(x):\n",
    "    non_prime = []\n",
    "\n",
    "# Test if a number is prime. If it's prime the modulo will not equal 0\n",
    "# Solution: Create a list of all non-prime numbers,\n",
    "#           which are subtracted from a list of all numbers in the given range\n",
    "    for p in range(2, (x + 20)):\n",
    "        for i in range(2, p - 1):\n",
    "            if p % i == 0:\n",
    "                non_prime.append(p)\n",
    "    return set(non_prime)\n",
    "\n",
    "non_prime_list = non_prime_numbers(x)\n",
    "\n",
    "# Create a list with all numbers in the range 2 - 10005 and subtract the list with non-prime numbers from it\n",
    "all_numbers = [i for i in range(2, (x + 20))]\n",
    "prime_numbers = list(set(all_numbers) - set(non_prime_list))\n",
    "prime_numbers.sort()\n",
    "prime_numbers_string = \"\".join(str(x) for x in prime_numbers)\n",
    "\n",
    "# Return the minion ID based on the starting index from Commander Lambda\n",
    "minion_id = prime_numbers_string[n:(n + 5)]"
   ]
  },
  {
   "cell_type": "code",
   "execution_count": 108,
   "metadata": {},
   "outputs": [
    {
     "data": {
      "text/plain": [
       "[2,\n",
       " 3,\n",
       " 5,\n",
       " 7,\n",
       " 11,\n",
       " 13,\n",
       " 17,\n",
       " 19,\n",
       " 23,\n",
       " 29,\n",
       " 31,\n",
       " 37,\n",
       " 41,\n",
       " 43,\n",
       " 47,\n",
       " 53,\n",
       " 59,\n",
       " 61,\n",
       " 67,\n",
       " 71,\n",
       " 73,\n",
       " 79,\n",
       " 83,\n",
       " 89,\n",
       " 97,\n",
       " 101,\n",
       " 103,\n",
       " 107,\n",
       " 109,\n",
       " 113,\n",
       " 127,\n",
       " 131,\n",
       " 137,\n",
       " 139,\n",
       " 149,\n",
       " 151,\n",
       " 157,\n",
       " 163,\n",
       " 167]"
      ]
     },
     "execution_count": 108,
     "metadata": {},
     "output_type": "execute_result"
    }
   ],
   "source": [
    "prime_numbers"
   ]
  },
  {
   "cell_type": "code",
   "execution_count": 111,
   "metadata": {},
   "outputs": [
    {
     "data": {
      "text/plain": [
       "88"
      ]
     },
     "execution_count": 111,
     "metadata": {},
     "output_type": "execute_result"
    }
   ],
   "source": [
    "len(prime_numbers_string)"
   ]
  },
  {
   "cell_type": "code",
   "execution_count": 110,
   "metadata": {},
   "outputs": [
    {
     "data": {
      "text/plain": [
       "''"
      ]
     },
     "execution_count": 110,
     "metadata": {},
     "output_type": "execute_result"
    }
   ],
   "source": [
    "minion_id"
   ]
  },
  {
   "cell_type": "code",
   "execution_count": null,
   "metadata": {
    "collapsed": true
   },
   "outputs": [],
   "source": []
  }
 ],
 "metadata": {
  "kernelspec": {
   "display_name": "Python [conda env:py27]",
   "language": "python",
   "name": "conda-env-py27-py"
  },
  "language_info": {
   "codemirror_mode": {
    "name": "ipython",
    "version": 2
   },
   "file_extension": ".py",
   "mimetype": "text/x-python",
   "name": "python",
   "nbconvert_exporter": "python",
   "pygments_lexer": "ipython2",
   "version": "2.7.13"
  }
 },
 "nbformat": 4,
 "nbformat_minor": 2
}
